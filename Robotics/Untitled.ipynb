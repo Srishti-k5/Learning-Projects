{
 "cells": [
  {
   "cell_type": "code",
   "execution_count": 2,
   "id": "7e908b64",
   "metadata": {},
   "outputs": [],
   "source": [
    "from math import *"
   ]
  },
  {
   "cell_type": "code",
   "execution_count": 4,
   "id": "c8189b1e",
   "metadata": {},
   "outputs": [
    {
     "data": {
      "text/plain": [
       "0.49999999999999994"
      ]
     },
     "execution_count": 4,
     "metadata": {},
     "output_type": "execute_result"
    }
   ],
   "source": [
    "sin(30*pi/180)"
   ]
  },
  {
   "cell_type": "code",
   "execution_count": 5,
   "id": "f79ac4b4",
   "metadata": {},
   "outputs": [],
   "source": [
    "import numpy as np"
   ]
  },
  {
   "cell_type": "code",
   "execution_count": 7,
   "id": "c0fd6472",
   "metadata": {},
   "outputs": [],
   "source": [
    "a = np.array([[1, 2 ,3]])"
   ]
  },
  {
   "cell_type": "code",
   "execution_count": 8,
   "id": "0e7dd783",
   "metadata": {},
   "outputs": [
    {
     "data": {
      "text/plain": [
       "array([[1, 2, 3],\n",
       "       [4, 5, 6]])"
      ]
     },
     "execution_count": 8,
     "metadata": {},
     "output_type": "execute_result"
    }
   ],
   "source": [
    "b = np.array([[1, 2, 3], [4, 5, 6]])\n",
    "b"
   ]
  },
  {
   "cell_type": "code",
   "execution_count": 9,
   "id": "a4f6bb3d",
   "metadata": {},
   "outputs": [
    {
     "data": {
      "text/plain": [
       "array([[1, 2, 3],\n",
       "       [4, 5, 6],\n",
       "       [7, 8, 9]])"
      ]
     },
     "execution_count": 9,
     "metadata": {},
     "output_type": "execute_result"
    }
   ],
   "source": [
    "c = np.array([[1, 2, 3], [4, 5, 6], [7, 8, 9]])\n",
    "c"
   ]
  },
  {
   "cell_type": "code",
   "execution_count": 10,
   "id": "a8ba19d4",
   "metadata": {},
   "outputs": [
    {
     "data": {
      "text/plain": [
       "array([[9, 8, 7],\n",
       "       [6, 5, 4],\n",
       "       [3, 2, 1]])"
      ]
     },
     "execution_count": 10,
     "metadata": {},
     "output_type": "execute_result"
    }
   ],
   "source": [
    "d = np.array([[9, 8, 7], [6, 5, 4], [3, 2, 1]])\n",
    "d"
   ]
  },
  {
   "cell_type": "code",
   "execution_count": 11,
   "id": "7ae1c4cf",
   "metadata": {},
   "outputs": [
    {
     "data": {
      "text/plain": [
       "array([[ 9, 16, 21],\n",
       "       [24, 25, 24],\n",
       "       [21, 16,  9]])"
      ]
     },
     "execution_count": 11,
     "metadata": {},
     "output_type": "execute_result"
    }
   ],
   "source": [
    "e = c*d\n",
    "e"
   ]
  },
  {
   "cell_type": "code",
   "execution_count": 13,
   "id": "582fdf3b",
   "metadata": {},
   "outputs": [
    {
     "data": {
      "text/plain": [
       "array([[ 30,  24,  18],\n",
       "       [ 84,  69,  54],\n",
       "       [138, 114,  90]])"
      ]
     },
     "execution_count": 13,
     "metadata": {},
     "output_type": "execute_result"
    }
   ],
   "source": [
    "f = np.dot(c, d)\n",
    "f"
   ]
  },
  {
   "cell_type": "code",
   "execution_count": 14,
   "id": "ac85c9cd",
   "metadata": {},
   "outputs": [
    {
     "data": {
      "text/plain": [
       "matrix([[1, 2, 3],\n",
       "        [4, 5, 6],\n",
       "        [7, 8, 9]])"
      ]
     },
     "execution_count": 14,
     "metadata": {},
     "output_type": "execute_result"
    }
   ],
   "source": [
    "g = np.matrix([[1, 2, 3], [4, 5, 6], [7, 8, 9]])\n",
    "g"
   ]
  },
  {
   "cell_type": "code",
   "execution_count": 15,
   "id": "03181250",
   "metadata": {},
   "outputs": [
    {
     "data": {
      "text/plain": [
       "matrix([[9, 8, 7],\n",
       "        [6, 5, 4],\n",
       "        [3, 2, 1]])"
      ]
     },
     "execution_count": 15,
     "metadata": {},
     "output_type": "execute_result"
    }
   ],
   "source": [
    "h = np.matrix([[9, 8, 7], [6, 5, 4], [3, 2, 1]])\n",
    "h"
   ]
  },
  {
   "cell_type": "code",
   "execution_count": 17,
   "id": "5e01ce2d",
   "metadata": {},
   "outputs": [
    {
     "data": {
      "text/plain": [
       "matrix([[ 30,  24,  18],\n",
       "        [ 84,  69,  54],\n",
       "        [138, 114,  90]])"
      ]
     },
     "execution_count": 17,
     "metadata": {},
     "output_type": "execute_result"
    }
   ],
   "source": [
    "i = g*h\n",
    "i"
   ]
  },
  {
   "cell_type": "code",
   "execution_count": 20,
   "id": "b4a56a04",
   "metadata": {},
   "outputs": [
    {
     "data": {
      "text/plain": [
       "matrix([[ 1,  2,  3,  4],\n",
       "        [ 4,  5,  6,  7],\n",
       "        [ 7,  8,  9, 10],\n",
       "        [10, 11, 12, 13]])"
      ]
     },
     "execution_count": 20,
     "metadata": {},
     "output_type": "execute_result"
    }
   ],
   "source": [
    "tf = np.matrix([[1, 2, 3, 4], [4, 5, 6, 7], [7, 8, 9, 10], [10, 11, 12, 13]])\n",
    "tf"
   ]
  },
  {
   "cell_type": "code",
   "execution_count": 21,
   "id": "4d897c62",
   "metadata": {},
   "outputs": [
    {
     "data": {
      "text/plain": [
       "7"
      ]
     },
     "execution_count": 21,
     "metadata": {},
     "output_type": "execute_result"
    }
   ],
   "source": [
    "tf[1, 3]"
   ]
  },
  {
   "cell_type": "code",
   "execution_count": null,
   "id": "16c7ad41",
   "metadata": {},
   "outputs": [],
   "source": [
    "T_i_1_i = np.matrix([[cos(theta_i), -sin(theta_i), 1]])"
   ]
  },
  {
   "cell_type": "code",
   "execution_count": 24,
   "id": "8b049825",
   "metadata": {},
   "outputs": [],
   "source": [
    "def rotx(theta):\n",
    "    R = np.matrix([[1, 0, 0], [0, cos(theta), -sin(theta)], [0, sin(theta), cos(theta)]])\n",
    "    return R"
   ]
  },
  {
   "cell_type": "code",
   "execution_count": 25,
   "id": "913fbd4c",
   "metadata": {},
   "outputs": [
    {
     "data": {
      "text/plain": [
       "matrix([[ 1.       ,  0.       ,  0.       ],\n",
       "        [ 0.       ,  0.8660254, -0.5      ],\n",
       "        [ 0.       ,  0.5      ,  0.8660254]])"
      ]
     },
     "execution_count": 25,
     "metadata": {},
     "output_type": "execute_result"
    }
   ],
   "source": [
    "x1 = rotx(pi/6)\n",
    "x1"
   ]
  },
  {
   "cell_type": "markdown",
   "id": "88efc9a9",
   "metadata": {},
   "source": [
    "# Forward Kinematics"
   ]
  },
  {
   "cell_type": "code",
   "execution_count": 37,
   "id": "e3efc918",
   "metadata": {},
   "outputs": [],
   "source": [
    "def tranF(alpha_i_1, a_i_1, d_i, theta_i):\n",
    "    TF = np.matrix([[cos(theta_i), -sin(theta_i), 0, a_i_1], \n",
    "                   [sin(theta_i)*cos(alpha_i_1), cos(theta_i)*cos(alpha_i_1), -sin(alpha_i_1), -sin(theta_i)*d_i],\n",
    "                   [sin(theta_i)*sin(alpha_i_1), cos(theta_i)*sin(alpha_i_1), cos(alpha_i_1), cos(alpha_i_1)*d_i],\n",
    "                   [0, 0, 0, 1]])\n",
    "    return TF"
   ]
  },
  {
   "cell_type": "code",
   "execution_count": 38,
   "id": "ec9aae43",
   "metadata": {},
   "outputs": [],
   "source": [
    "a_i_1 = 2\n",
    "d_i = 4\n",
    "theta_i = pi/3\n",
    "alpha_i_1 = -pi/6"
   ]
  },
  {
   "cell_type": "code",
   "execution_count": 39,
   "id": "b172fd0f",
   "metadata": {},
   "outputs": [],
   "source": [
    "T1 = tranF(0, 0, 0, theta_i)\n",
    "T2 = tranF(0, a_i_1, 0, alpha_i_1)\n",
    "T3 = tranF(0, d_i, 0, 0)"
   ]
  },
  {
   "cell_type": "code",
   "execution_count": 40,
   "id": "e3460bd1",
   "metadata": {},
   "outputs": [
    {
     "data": {
      "text/plain": [
       "matrix([[ 0.8660254 , -0.5       ,  0.        ,  4.46410162],\n",
       "        [ 0.5       ,  0.8660254 ,  0.        ,  3.73205081],\n",
       "        [ 0.        ,  0.        ,  1.        ,  0.        ],\n",
       "        [ 0.        ,  0.        ,  0.        ,  1.        ]])"
      ]
     },
     "execution_count": 40,
     "metadata": {},
     "output_type": "execute_result"
    }
   ],
   "source": [
    "T = T1*T2*T3\n",
    "T"
   ]
  },
  {
   "cell_type": "code",
   "execution_count": 41,
   "id": "460261e0",
   "metadata": {},
   "outputs": [
    {
     "data": {
      "text/plain": [
       "(1.0000000000000002, 1.7320508075688772)"
      ]
     },
     "execution_count": 41,
     "metadata": {},
     "output_type": "execute_result"
    }
   ],
   "source": [
    "x0 = 0\n",
    "y0 = 0\n",
    "x1 = a_i_1*cos(theta_i)\n",
    "y1 = a_i_1*sin(theta_i)\n",
    "x1, y1"
   ]
  },
  {
   "cell_type": "code",
   "execution_count": 43,
   "id": "805129a6",
   "metadata": {},
   "outputs": [],
   "source": [
    "x2 = T[0,3]\n",
    "y2 = T[1,3]"
   ]
  },
  {
   "cell_type": "code",
   "execution_count": 45,
   "id": "a52e5463",
   "metadata": {},
   "outputs": [],
   "source": [
    "import matplotlib.pyplot as plt"
   ]
  },
  {
   "cell_type": "code",
   "execution_count": 46,
   "id": "8beeb621",
   "metadata": {},
   "outputs": [
    {
     "data": {
      "text/plain": [
       "[<matplotlib.lines.Line2D at 0x2c5d2798050>]"
      ]
     },
     "execution_count": 46,
     "metadata": {},
     "output_type": "execute_result"
    },
    {
     "data": {
      "image/png": "[encoded data removed]",
      "text/plain": [
       "<Figure size 640x480 with 1 Axes>"
      ]
     },
     "metadata": {},
     "output_type": "display_data"
    }
   ],
   "source": [
    "plt.plot([x0,x1,x2], [y0,y1,y2])"
   ]
  },
  {
   "cell_type": "code",
   "execution_count": 49,
   "id": "6639b2df",
   "metadata": {},
   "outputs": [
    {
     "data": {
      "text/plain": [
       "4.464101615137755"
      ]
     },
     "execution_count": 49,
     "metadata": {},
     "output_type": "execute_result"
    }
   ],
   "source": [
    "x2 = a_i_1*cos(theta_i) + d_i*cos(alpha_i_1 + theta_i)\n",
    "x2"
   ]
  },
  {
   "cell_type": "markdown",
   "id": "1fb8ccf1",
   "metadata": {},
   "source": [
    "# Inverse Kinematics"
   ]
  },
  {
   "cell_type": "code",
   "execution_count": 51,
   "id": "f7f2d2fb",
   "metadata": {},
   "outputs": [
    {
     "data": {
      "text/plain": [
       "0.8660254037844388"
      ]
     },
     "execution_count": 51,
     "metadata": {},
     "output_type": "execute_result"
    }
   ],
   "source": [
    "c2 = (x2*x2 + y2*y2 - a_i_1*a_i_1 - d_i*d_i)/(2*a_i_1*d_i)\n",
    "c2"
   ]
  },
  {
   "cell_type": "code",
   "execution_count": 59,
   "id": "48b63d88",
   "metadata": {},
   "outputs": [],
   "source": [
    "s2_1 = sqrt(1 - c2*c2)\n",
    "s2_2 = -sqrt(1 - c2*c2)"
   ]
  },
  {
   "cell_type": "code",
   "execution_count": 60,
   "id": "c9d7a4cd",
   "metadata": {},
   "outputs": [
    {
     "data": {
      "text/plain": [
       "0.49999999999999967"
      ]
     },
     "execution_count": 60,
     "metadata": {},
     "output_type": "execute_result"
    }
   ],
   "source": [
    "s2_1"
   ]
  },
  {
   "cell_type": "code",
   "execution_count": 61,
   "id": "e329de84",
   "metadata": {},
   "outputs": [
    {
     "data": {
      "text/plain": [
       "-0.49999999999999967"
      ]
     },
     "execution_count": 61,
     "metadata": {},
     "output_type": "execute_result"
    }
   ],
   "source": [
    "s2_2"
   ]
  },
  {
   "cell_type": "code",
   "execution_count": 66,
   "id": "8168dcfe",
   "metadata": {},
   "outputs": [
    {
     "data": {
      "text/plain": [
       "29.99999999999998"
      ]
     },
     "execution_count": 66,
     "metadata": {},
     "output_type": "execute_result"
    }
   ],
   "source": [
    "first_a = np.arcsin(s2_1)\n",
    "(first_a*180)/pi"
   ]
  },
  {
   "cell_type": "code",
   "execution_count": 67,
   "id": "8b092c4e",
   "metadata": {},
   "outputs": [
    {
     "data": {
      "text/plain": [
       "-29.99999999999998"
      ]
     },
     "execution_count": 67,
     "metadata": {},
     "output_type": "execute_result"
    }
   ],
   "source": [
    "second_a = np.arcsin(s2_2)\n",
    "(second_a*180)/pi"
   ]
  },
  {
   "cell_type": "code",
   "execution_count": 113,
   "id": "504761d9",
   "metadata": {},
   "outputs": [],
   "source": [
    "k1 = a_i_1 + d_i*c2\n"
   ]
  },
  {
   "cell_type": "code",
   "execution_count": 114,
   "id": "780e2ed9",
   "metadata": {},
   "outputs": [
    {
     "data": {
      "text/plain": [
       "5.464101615137755"
      ]
     },
     "execution_count": 114,
     "metadata": {},
     "output_type": "execute_result"
    }
   ],
   "source": [
    "k1"
   ]
  },
  {
   "cell_type": "code",
   "execution_count": 115,
   "id": "1eb346b6",
   "metadata": {},
   "outputs": [],
   "source": [
    "k2 = d_i*s2_2"
   ]
  },
  {
   "cell_type": "code",
   "execution_count": 116,
   "id": "9f1e5a62",
   "metadata": {},
   "outputs": [
    {
     "data": {
      "text/plain": [
       "-1.9999999999999987"
      ]
     },
     "execution_count": 116,
     "metadata": {},
     "output_type": "execute_result"
    }
   ],
   "source": [
    "k2"
   ]
  },
  {
   "cell_type": "code",
   "execution_count": 117,
   "id": "ccbfe05a",
   "metadata": {},
   "outputs": [],
   "source": [
    "theta1 = atan2(y2,x2) - atan2(k2,k1)\n"
   ]
  },
  {
   "cell_type": "code",
   "execution_count": 118,
   "id": "e83d4e77",
   "metadata": {},
   "outputs": [],
   "source": [
    "theta1  = the2 - the1"
   ]
  },
  {
   "cell_type": "code",
   "execution_count": 119,
   "id": "13302a0b",
   "metadata": {},
   "outputs": [
    {
     "data": {
      "text/plain": [
       "-19.792181277965813"
      ]
     },
     "execution_count": 119,
     "metadata": {},
     "output_type": "execute_result"
    }
   ],
   "source": [
    "(theta1*180)/pi"
   ]
  },
  {
   "cell_type": "code",
   "execution_count": null,
   "id": "6a82ce37",
   "metadata": {},
   "outputs": [],
   "source": []
  }
 ],
 "metadata": {
  "kernelspec": {
   "display_name": "Python 3 (ipykernel)",
   "language": "python",
   "name": "python3"
  },
  "language_info": {
   "codemirror_mode": {
    "name": "ipython",
    "version": 3
   },
   "file_extension": ".py",
   "mimetype": "text/x-python",
   "name": "python",
   "nbconvert_exporter": "python",
   "pygments_lexer": "ipython3",
   "version": "3.10.6"
  }
 },
 "nbformat": 4,
 "nbformat_minor": 5
}

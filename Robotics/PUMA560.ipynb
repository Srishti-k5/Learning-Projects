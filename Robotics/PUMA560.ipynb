{
 "cells": [
  {
   "cell_type": "code",
   "execution_count": 35,
   "id": "dd9a3b34",
   "metadata": {},
   "outputs": [],
   "source": [
    "from math import *\n",
    "import numpy as np"
   ]
  },
  {
   "cell_type": "markdown",
   "id": "2010b0ac",
   "metadata": {},
   "source": [
    "## Forward Kinematics"
   ]
  },
  {
   "cell_type": "code",
   "execution_count": 36,
   "id": "94e6302a",
   "metadata": {},
   "outputs": [],
   "source": [
    "def transform(alpha, a, d, theta):\n",
    "    TF = np.matrix([[cos(theta), -sin(theta), 0, a], \n",
    "                    [sin(theta)*cos(alpha), cos(theta)*cos(alpha), -sin(alpha), -sin(alpha)*d],\n",
    "                   [sin(theta)*sin(alpha), cos(theta)*sin(alpha), cos(alpha), cos(alpha)*d],\n",
    "                   [0, 0, 0, 1]])\n",
    "    return TF"
   ]
  },
  {
   "cell_type": "code",
   "execution_count": 37,
   "id": "7a48b8f3",
   "metadata": {},
   "outputs": [],
   "source": [
    "T1 = transform(0, 0, 0, pi/3)\n",
    "T2 = transform(-pi/2, 0, 0, pi/2)\n",
    "T3 = transform(0, 80, 40, pi/3)\n",
    "T4 = transform(-pi/2, 30, 70, pi/2)\n",
    "T5 = transform(pi/2, 0, 0, pi/2)\n",
    "T6 = transform(-pi/2, 0, 0, pi/3)"
   ]
  },
  {
   "cell_type": "code",
   "execution_count": 38,
   "id": "90a3a6df",
   "metadata": {},
   "outputs": [
    {
     "data": {
      "text/plain": [
       "matrix([[  0.25      ,   0.4330127 ,  -0.8660254 , -65.13139721],\n",
       "        [  0.4330127 ,   0.75      ,   0.5       , -32.81088913],\n",
       "        [  0.8660254 ,  -0.5       ,   0.        , -34.37822174],\n",
       "        [  0.        ,   0.        ,   0.        ,   1.        ]])"
      ]
     },
     "execution_count": 38,
     "metadata": {},
     "output_type": "execute_result"
    }
   ],
   "source": [
    "T = T1*T2*T3*T4*T5*T6\n",
    "T"
   ]
  },
  {
   "cell_type": "code",
   "execution_count": 39,
   "id": "ecca7bdb",
   "metadata": {},
   "outputs": [
    {
     "data": {
      "text/plain": [
       "60.00000000000001"
      ]
     },
     "execution_count": 39,
     "metadata": {},
     "output_type": "execute_result"
    }
   ],
   "source": [
    "phi = atan2(T[0,1],T[0,0])\n",
    "(phi*180)/pi"
   ]
  },
  {
   "cell_type": "code",
   "execution_count": 40,
   "id": "079e0937",
   "metadata": {},
   "outputs": [
    {
     "data": {
      "text/plain": [
       "matrix([[  0.5       ,   0.8660254 ,   0.        , -60.98076211],\n",
       "        [  0.        ,   0.        ,   1.        ,  40.        ],\n",
       "        [  0.8660254 ,  -0.5       ,   0.        , -34.37822174],\n",
       "        [  0.        ,   0.        ,   0.        ,   1.        ]])"
      ]
     },
     "execution_count": 40,
     "metadata": {},
     "output_type": "execute_result"
    }
   ],
   "source": [
    "T1_6 = np.linalg.inv(T1)*T\n",
    "T1_6"
   ]
  },
  {
   "cell_type": "markdown",
   "id": "71f91c2c",
   "metadata": {},
   "source": [
    "## Inverse Kinematics"
   ]
  },
  {
   "cell_type": "code",
   "execution_count": 41,
   "id": "9da90439",
   "metadata": {},
   "outputs": [],
   "source": [
    "from math import acos, asin, atan2, sqrt"
   ]
  },
  {
   "cell_type": "code",
   "execution_count": 42,
   "id": "8b1841ce",
   "metadata": {},
   "outputs": [],
   "source": [
    "def inverse_kinematics(T):\n",
    "    a1 = 0\n",
    "    a2 = 80\n",
    "    a3 = 40\n",
    "    d1 = 0\n",
    "    d4 = 70\n",
    "    d6 = 0\n",
    "    # Extract rotation matrix\n",
    "    R = T[:3, :3]\n",
    "\n",
    "    # Extract position vector\n",
    "    p = T[:3, 3]\n",
    "\n",
    "    # Joint angles (theta) for the Puma 560 robot\n",
    "    theta = np.zeros(6)\n",
    "\n",
    "    # Calculate theta1\n",
    "    theta[0] = atan2(p[1], p[0])\n",
    "\n",
    "    # Calculate theta3\n",
    "    D = (p[0]**2 + p[1]**2 + (p[2] - d1)**2 - a2**2 - a3**2) / (2 * a2 * a3)\n",
    "    theta[2] = atan2(-sqrt(1 - D**2), D)\n",
    "\n",
    "    # Calculate theta2\n",
    "    K1 = a2 + a3 * cos(theta[2])\n",
    "    K2 = a3 * sin(theta[2])\n",
    "    theta[1] = atan2(p[2] - d1, sqrt(p[0]**2 + p[1]**2)) - atan2(K2, K1)\n",
    "\n",
    "    # Calculate theta4, theta5, and theta6\n",
    "    R03_inv = np.linalg.inv(R[:3, :3])\n",
    "    R36 = np.dot(R03_inv, T3[:3, :3])\n",
    "    theta[3] = atan2(R36[2, 1], R36[2, 0])\n",
    "    theta[4] = acos(R36[2, 2])\n",
    "    theta[5] = atan2(-R36[1, 2], R36[0, 2])\n",
    "\n",
    "    return theta"
   ]
  },
  {
   "cell_type": "code",
   "execution_count": 45,
   "id": "5677e2c4",
   "metadata": {},
   "outputs": [
    {
     "name": "stdout",
     "output_type": "stream",
     "text": [
      "[-2.67493794  0.06278919 -1.80728909  1.57079633  1.57079633  0.52359878]\n"
     ]
    }
   ],
   "source": [
    "theta_inverse = inverse_kinematics(T)\n",
    "print(theta_inverse)"
   ]
  },
  {
   "cell_type": "code",
   "execution_count": 47,
   "id": "076f06ae",
   "metadata": {},
   "outputs": [
    {
     "name": "stdout",
     "output_type": "stream",
     "text": [
      "-153.26265443670087\n",
      "3.5975557643557297\n",
      "-103.55003706682172\n",
      "90.00000000000001\n",
      "90.0\n",
      "29.999999999999993\n"
     ]
    }
   ],
   "source": [
    "for i in range(len(theta_inverse)):\n",
    "    print((theta_inverse[i]*180)/pi)"
   ]
  },
  {
   "cell_type": "code",
   "execution_count": null,
   "id": "0c606db1",
   "metadata": {},
   "outputs": [],
   "source": []
  }
 ],
 "metadata": {
  "kernelspec": {
   "display_name": "Python 3 (ipykernel)",
   "language": "python",
   "name": "python3"
  },
  "language_info": {
   "codemirror_mode": {
    "name": "ipython",
    "version": 3
   },
   "file_extension": ".py",
   "mimetype": "text/x-python",
   "name": "python",
   "nbconvert_exporter": "python",
   "pygments_lexer": "ipython3",
   "version": "3.10.6"
  }
 },
 "nbformat": 4,
 "nbformat_minor": 5
}

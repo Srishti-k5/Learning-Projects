{
 "cells": [
  {
   "cell_type": "code",
   "execution_count": 1,
   "id": "4c32c3c1",
   "metadata": {},
   "outputs": [],
   "source": [
    "import cv2"
   ]
  },
  {
   "cell_type": "code",
   "execution_count": 2,
   "id": "069a1687",
   "metadata": {},
   "outputs": [],
   "source": [
    "import numpy as np"
   ]
  },
  {
   "cell_type": "code",
   "execution_count": 3,
   "id": "dc699b1b",
   "metadata": {},
   "outputs": [],
   "source": [
    "import smtplib"
   ]
  },
  {
   "cell_type": "code",
   "execution_count": 4,
   "id": "1905fa0a",
   "metadata": {},
   "outputs": [],
   "source": [
    "import playsound\n",
    "import threading"
   ]
  },
  {
   "cell_type": "code",
   "execution_count": 5,
   "id": "ad428db8",
   "metadata": {},
   "outputs": [],
   "source": [
    "Alarm_Status = False\n",
    "Email_Status = False\n",
    "Fire_Reported = 0"
   ]
  },
  {
   "cell_type": "code",
   "execution_count": 6,
   "id": "a2c59cca",
   "metadata": {},
   "outputs": [],
   "source": [
    "def play_alarm_sound_function():\n",
    "    while True:\n",
    "        playsound.playsound(\"alarm-sound.mp3\", True)"
   ]
  },
  {
   "cell_type": "code",
   "execution_count": 7,
   "id": "d94471a5",
   "metadata": {},
   "outputs": [],
   "source": [
    "def send_mail_function():\n",
    "    recipientEmail = \"Enter_Recipient_Email\"\n",
    "    recipientEmail = recipientEmail.lower()\n",
    "    \n",
    "    try:\n",
    "        server = smtplib.SMTP(\"smtp.gmail.com\", 587)\n",
    "        server.ehlo()\n",
    "        server.starttls()\n",
    "        server.login(\"srishtimuskan55@gmail.com\", '12@muSKan')\n",
    "        server.sendmail('srishtimuskan55@gmail.com', recipientEmail, \"Warning A Fire Accident has been reported on ABC Company\")\n",
    "        print(\"sent to {}\".format(recipientEmail))\n",
    "        server.close()\n",
    "    \n",
    "    except Exception as e:\n",
    "        print(e)"
   ]
  },
  {
   "cell_type": "code",
   "execution_count": 8,
   "id": "46828135",
   "metadata": {},
   "outputs": [],
   "source": [
    "video = cv2.VideoCapture(\"1236624770.mp4\")"
   ]
  },
  {
   "cell_type": "code",
   "execution_count": 10,
   "id": "a0319ca2",
   "metadata": {},
   "outputs": [],
   "source": [
    "while True:\n",
    "    (ret, frame) = video.read()\n",
    "    \n",
    "    if not ret:\n",
    "        break\n",
    "        \n",
    "    frame = cv2.resize(frame, (1500,1200))\n",
    "    \n",
    "    blur = cv2.GaussianBlur(frame, (21,21), 0)\n",
    "    hsv = cv2.cvtColor(blur, cv2.COLOR_BGR2HSV)\n",
    "    \n",
    "    lower = [18, 50, 50]\n",
    "    upper = [35, 255, 255]\n",
    "    lower = np.array(lower, dtype = \"uint8\")\n",
    "    upper = np.array(upper, dtype = \"uint8\")\n",
    "    \n",
    "    mask = cv2.inRange(hsv, lower, upper)\n",
    "    \n",
    "    output = cv2.bitwise_and(frame, hsv, mask = mask)\n",
    "    \n",
    "    no_red = cv2.countNonZero(mask)\n",
    "    if int(no_red) > 15000:\n",
    "        Fire_Reported = Fire_Reported + 1\n",
    "            \n",
    "    cv2.imshow(\"output\", output)\n",
    "    \n",
    "    if Fire_Reported >=1:\n",
    "        if Alarm_Status == False:\n",
    "            threading.Thread(target= play_alarm_sound_function).start()\n",
    "            Alarm_Status = True\n",
    "            \n",
    "        if Email_Status == False:\n",
    "            threading.Thread(target = send_mail_function).start()\n",
    "            Email_Status = True\n",
    "            \n",
    "    if cv2.waitKey(1)== ord('q'):\n",
    "        break\n",
    "        \n",
    "cv2.destroyAllWindows()\n",
    "video.release()"
   ]
  },
  {
   "cell_type": "code",
   "execution_count": null,
   "id": "7a619a79",
   "metadata": {},
   "outputs": [],
   "source": []
  }
 ],
 "metadata": {
  "kernelspec": {
   "display_name": "Python 3 (ipykernel)",
   "language": "python",
   "name": "python3"
  },
  "language_info": {
   "codemirror_mode": {
    "name": "ipython",
    "version": 3
   },
   "file_extension": ".py",
   "mimetype": "text/x-python",
   "name": "python",
   "nbconvert_exporter": "python",
   "pygments_lexer": "ipython3",
   "version": "3.10.6"
  }
 },
 "nbformat": 4,
 "nbformat_minor": 5
}

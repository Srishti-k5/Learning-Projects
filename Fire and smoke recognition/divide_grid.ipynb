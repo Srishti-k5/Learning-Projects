{
 "cells": [
  {
   "cell_type": "code",
   "execution_count": 1,
   "id": "34a8f6dc",
   "metadata": {},
   "outputs": [
    {
     "data": {
      "text/plain": [
       "0.0018299851383025132"
      ]
     },
     "execution_count": 1,
     "metadata": {},
     "output_type": "execute_result"
    }
   ],
   "source": [
    "from PIL import Image\n",
    "import cv2\n",
    "\n",
    "# Load the image\n",
    "\n",
    "image_path = 'Cambodia Burning.jpeg.jpg'\n",
    "image = Image.open(image_path)\n",
    "\n",
    "# image = cv2.imread(\"almora_fire.jpeg\")\n",
    "\n",
    "# Define the number of rows and columns in the grid\n",
    "num_rows = 540988\n",
    "num_cols = 540988\n",
    "\n",
    "# Determine the width and height of each grid cell\n",
    "cell_width = image.width / num_cols\n",
    "cell_height = image.height / num_rows\n",
    "\n",
    "\n",
    "import numpy as np\n",
    "data = np.loadtxt('coordinates.txt')\n",
    "Long = data[:,0];\n",
    "Lat = data[:,1];\n",
    "\n",
    "# image.width\n",
    "cell_width"
   ]
  },
  {
   "cell_type": "code",
   "execution_count": null,
   "id": "85990e9e",
   "metadata": {},
   "outputs": [],
   "source": [
    "grid_cell_val = []\n",
    "for lon_row in Long:\n",
    "    for lat_col in Lat:\n",
    "        grid_cell_val.append([lon_row, lat_col])\n",
    "\n",
    "# grid_cell_val\n",
    "len(grid_cell_val)"
   ]
  },
  {
   "cell_type": "code",
   "execution_count": 3,
   "id": "b1b75a0a",
   "metadata": {},
   "outputs": [],
   "source": [
    "import pandas as pd\n",
    "pixelData = pd.read_excel(\"final_lat_long_fp.xlsx\")\n",
    "xCord = pixelData[\"X-cord\"]\n",
    "yCord = pixelData[\"Y-cord\"]"
   ]
  },
  {
   "cell_type": "code",
   "execution_count": 4,
   "id": "1dc057ac",
   "metadata": {},
   "outputs": [
    {
     "data": {
      "text/plain": [
       "pandas.core.series.Series"
      ]
     },
     "execution_count": 4,
     "metadata": {},
     "output_type": "execute_result"
    }
   ],
   "source": [
    "x1= round(xCord/cell_width)\n",
    "y1 = round(yCord/cell_height)\n",
    "type(x1) "
   ]
  },
  {
   "cell_type": "code",
   "execution_count": 5,
   "id": "494b631b",
   "metadata": {},
   "outputs": [
    {
     "data": {
      "text/plain": [
       "13"
      ]
     },
     "execution_count": 5,
     "metadata": {},
     "output_type": "execute_result"
    }
   ],
   "source": [
    "limit = len(x1)\n",
    "limit"
   ]
  },
  {
   "cell_type": "code",
   "execution_count": 6,
   "id": "a22bd1b1",
   "metadata": {},
   "outputs": [
    {
     "data": {
      "text/plain": [
       "(0      7\n",
       " 1     10\n",
       " 2     13\n",
       " 3     14\n",
       " 4     17\n",
       " 5     19\n",
       " 6     24\n",
       " 7     19\n",
       " 8     23\n",
       " 9     28\n",
       " 10    30\n",
       " 11    32\n",
       " 12    38\n",
       " Name: X-cord, dtype: int32,\n",
       " 0     39\n",
       " 1     37\n",
       " 2     37\n",
       " 3     36\n",
       " 4     35\n",
       " 5     34\n",
       " 6     32\n",
       " 7     32\n",
       " 8     29\n",
       " 9     28\n",
       " 10    26\n",
       " 11    25\n",
       " 12    23\n",
       " Name: Y-cord, dtype: int32)"
      ]
     },
     "execution_count": 6,
     "metadata": {},
     "output_type": "execute_result"
    }
   ],
   "source": [
    "x1 = x1.astype(int)\n",
    "y1 = y1.astype(int)\n",
    "(x1,y1)"
   ]
  },
  {
   "cell_type": "code",
   "execution_count": 7,
   "id": "221263ca",
   "metadata": {},
   "outputs": [
    {
     "data": {
      "text/plain": [
       "0     273\n",
       "1     370\n",
       "2     481\n",
       "3     504\n",
       "4     595\n",
       "5     646\n",
       "6     768\n",
       "7     608\n",
       "8     667\n",
       "9     784\n",
       "10    780\n",
       "11    800\n",
       "12    874\n",
       "dtype: int32"
      ]
     },
     "execution_count": 7,
     "metadata": {},
     "output_type": "execute_result"
    }
   ],
   "source": [
    "combined = []\n",
    "for i in range(len(x1)):\n",
    "    combined.append(x1[i]*y1[i])\n",
    "combined = pd.Series(combined)\n",
    "combined = combined.astype(int)\n",
    "combined"
   ]
  },
  {
   "cell_type": "code",
   "execution_count": 8,
   "id": "0b52ac9a",
   "metadata": {},
   "outputs": [],
   "source": [
    "# grid_index = []\n",
    "# for i in range(len(x1)):\n",
    "#     grid_index.append()\n"
   ]
  },
  {
   "cell_type": "code",
   "execution_count": 9,
   "id": "1cae8179",
   "metadata": {},
   "outputs": [
    {
     "data": {
      "text/plain": [
       "[[79.725, 29.5534],\n",
       " [79.7583, 29.5969],\n",
       " [79.675, 29.5969],\n",
       " [79.6917, 29.6549],\n",
       " [79.7083, 29.5824],\n",
       " [79.725, 29.5969],\n",
       " [79.7583, 29.5824],\n",
       " [79.7083, 29.5679],\n",
       " [79.725, 29.5534],\n",
       " [79.6583, 29.6549],\n",
       " [79.7583, 29.5534],\n",
       " [79.6583, 29.6259],\n",
       " [79.675, 29.5969]]"
      ]
     },
     "execution_count": 9,
     "metadata": {},
     "output_type": "execute_result"
    }
   ],
   "source": [
    "# grid_cell_val[10856]\n",
    "final_lat_long = []\n",
    "for i in range(len(x1)):\n",
    "    final_lat_long.append(grid_cell_val[combined[i]])\n",
    "final_lat_long"
   ]
  },
  {
   "cell_type": "code",
   "execution_count": 10,
   "id": "8064fcf3",
   "metadata": {},
   "outputs": [],
   "source": [
    "# dct=[]\n",
    "# for k in range(len(final_lat_long)):\n",
    "#     dct[k] = {\"Long\":final_lat_long[i][0][0],\"Lat\":final_lat_long[i][0][1]}\n",
    "#     dat = dat + [dct[k]]\n",
    "#     dataa = pd.DataFrame(dat)\n",
    "#     dataa.to_excel(\"outputData.xlsx\")"
   ]
  },
  {
   "cell_type": "code",
   "execution_count": 11,
   "id": "f7e56648",
   "metadata": {},
   "outputs": [
    {
     "data": {
      "text/html": [
       "<div>\n",
       "<style scoped>\n",
       "    .dataframe tbody tr th:only-of-type {\n",
       "        vertical-align: middle;\n",
       "    }\n",
       "\n",
       "    .dataframe tbody tr th {\n",
       "        vertical-align: top;\n",
       "    }\n",
       "\n",
       "    .dataframe thead th {\n",
       "        text-align: right;\n",
       "    }\n",
       "</style>\n",
       "<table border=\"1\" class=\"dataframe\">\n",
       "  <thead>\n",
       "    <tr style=\"text-align: right;\">\n",
       "      <th></th>\n",
       "      <th>0</th>\n",
       "      <th>1</th>\n",
       "    </tr>\n",
       "  </thead>\n",
       "  <tbody>\n",
       "    <tr>\n",
       "      <th>0</th>\n",
       "      <td>79.7250</td>\n",
       "      <td>29.5534</td>\n",
       "    </tr>\n",
       "    <tr>\n",
       "      <th>1</th>\n",
       "      <td>79.7583</td>\n",
       "      <td>29.5969</td>\n",
       "    </tr>\n",
       "    <tr>\n",
       "      <th>2</th>\n",
       "      <td>79.6750</td>\n",
       "      <td>29.5969</td>\n",
       "    </tr>\n",
       "    <tr>\n",
       "      <th>3</th>\n",
       "      <td>79.6917</td>\n",
       "      <td>29.6549</td>\n",
       "    </tr>\n",
       "    <tr>\n",
       "      <th>4</th>\n",
       "      <td>79.7083</td>\n",
       "      <td>29.5824</td>\n",
       "    </tr>\n",
       "    <tr>\n",
       "      <th>5</th>\n",
       "      <td>79.7250</td>\n",
       "      <td>29.5969</td>\n",
       "    </tr>\n",
       "    <tr>\n",
       "      <th>6</th>\n",
       "      <td>79.7583</td>\n",
       "      <td>29.5824</td>\n",
       "    </tr>\n",
       "    <tr>\n",
       "      <th>7</th>\n",
       "      <td>79.7083</td>\n",
       "      <td>29.5679</td>\n",
       "    </tr>\n",
       "    <tr>\n",
       "      <th>8</th>\n",
       "      <td>79.7250</td>\n",
       "      <td>29.5534</td>\n",
       "    </tr>\n",
       "    <tr>\n",
       "      <th>9</th>\n",
       "      <td>79.6583</td>\n",
       "      <td>29.6549</td>\n",
       "    </tr>\n",
       "    <tr>\n",
       "      <th>10</th>\n",
       "      <td>79.7583</td>\n",
       "      <td>29.5534</td>\n",
       "    </tr>\n",
       "    <tr>\n",
       "      <th>11</th>\n",
       "      <td>79.6583</td>\n",
       "      <td>29.6259</td>\n",
       "    </tr>\n",
       "    <tr>\n",
       "      <th>12</th>\n",
       "      <td>79.6750</td>\n",
       "      <td>29.5969</td>\n",
       "    </tr>\n",
       "  </tbody>\n",
       "</table>\n",
       "</div>"
      ],
      "text/plain": [
       "          0        1\n",
       "0   79.7250  29.5534\n",
       "1   79.7583  29.5969\n",
       "2   79.6750  29.5969\n",
       "3   79.6917  29.6549\n",
       "4   79.7083  29.5824\n",
       "5   79.7250  29.5969\n",
       "6   79.7583  29.5824\n",
       "7   79.7083  29.5679\n",
       "8   79.7250  29.5534\n",
       "9   79.6583  29.6549\n",
       "10  79.7583  29.5534\n",
       "11  79.6583  29.6259\n",
       "12  79.6750  29.5969"
      ]
     },
     "execution_count": 11,
     "metadata": {},
     "output_type": "execute_result"
    }
   ],
   "source": [
    "df = pd.DataFrame(final_lat_long)\n",
    "df.to_excel(\"final_lat_long.xlsx\")\n",
    "df"
   ]
  },
  {
   "cell_type": "code",
   "execution_count": null,
   "id": "cea029f9",
   "metadata": {},
   "outputs": [],
   "source": []
  },
  {
   "cell_type": "code",
   "execution_count": null,
   "id": "eafa4ecc",
   "metadata": {},
   "outputs": [],
   "source": []
  }
 ],
 "metadata": {
  "kernelspec": {
   "display_name": "Python 3 (ipykernel)",
   "language": "python",
   "name": "python3"
  },
  "language_info": {
   "codemirror_mode": {
    "name": "ipython",
    "version": 3
   },
   "file_extension": ".py",
   "mimetype": "text/x-python",
   "name": "python",
   "nbconvert_exporter": "python",
   "pygments_lexer": "ipython3",
   "version": "3.10.6"
  }
 },
 "nbformat": 4,
 "nbformat_minor": 5
}

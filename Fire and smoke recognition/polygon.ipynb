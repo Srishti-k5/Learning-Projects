{
 "cells": [
  {
   "cell_type": "code",
   "execution_count": 1,
   "id": "41a26cac",
   "metadata": {
    "scrolled": true
   },
   "outputs": [],
   "source": [
    "import pandas as pd\n",
    "X_Y = pd.read_excel(\"cambodia_pixel_fire.xlsx\")\n",
    "\n",
    "X = X_Y[\"X-cord\"]\n",
    "Y = X_Y[\"Y-cord\"]\n",
    "\n",
    "combined = []\n",
    "for i in range(len(X)):\n",
    "    combined.append((X[i], Y[i]))\n",
    "\n",
    "# combined"
   ]
  },
  {
   "cell_type": "code",
   "execution_count": 2,
   "id": "4da8b390",
   "metadata": {},
   "outputs": [],
   "source": [
    "import math\n",
    "import matplotlib.patches as patches\n",
    "import pylab\n",
    "poly_o= combined\n",
    "# compute centroid\n",
    "cent=(sum([p[0] for p in poly_o])/len(poly_o),sum([p[1] for p in poly_o])/len(poly_o))\n",
    "# sort by polar angle\n",
    "poly_o.sort(key=lambda p: math.atan2(p[1]-cent[1],p[0]-cent[0]))\n",
    "# plot points\n",
    "# pylab.scatter([p[0] for p in pp],[p[1] for p in pp])\n",
    "# # plot polyline\n",
    "# pylab.gca().add_patch(patches.Polygon(pp,closed=False,fill=False))\n",
    "# pylab.grid()\n",
    "# pylab.show()\n",
    "# poly_o"
   ]
  },
  {
   "cell_type": "code",
   "execution_count": 4,
   "id": "1748476a",
   "metadata": {},
   "outputs": [],
   "source": [
    "import numpy as np\n",
    "import cv2\n",
    "if __name__ == '__main__':\n",
    "    img = cv2.imread(\"Cambodia Burning.jpeg.jpg\")\n",
    "    mask = np.zeros(img.shape[0:2], dtype=np.uint8)\n",
    "#     points = np.array([[[100,350],[120,400],[310,350],[360,200],[350,20],[25,120]]])\n",
    "#     points = np.array([[[675.5, 577.0],[501.5, 551.0],[422.5, 546.5],[487.0, 539.0],[597.5, 542.5],[739.5, 547.0],[497.5, 489.5],[509.0, 297.0],[765.5, 367.5],[550.5, 254.5],[763.5, 239.0],[659.5, 180.5]]])\n",
    "#     points = combined\n",
    "    points = np.array(poly_o).reshape((-1,1,2)).astype(np.int32)\n",
    "    #method 1 smooth region\n",
    "    cv2.drawContours(mask, [points], -1, (255, 255, 255), -1, cv2.LINE_AA)\n",
    "    #method 2 not so smooth region\n",
    "    # cv2.fillPoly(mask, points, (255))\n",
    "    res = cv2.bitwise_and(img,img,mask = mask)\n",
    "    rect = cv2.boundingRect(points) # returns (x,y,w,h) of the rect\n",
    "    cropped = res[rect[1]: rect[1] + rect[3], rect[0]: rect[0] + rect[2]]\n",
    "    ## crate the white background of the same size of original image\n",
    "    wbg = np.ones_like(img, np.uint8)*255\n",
    "    cv2.bitwise_not(wbg,wbg, mask=mask)\n",
    "    # overlap the resulted cropped image on the white background\n",
    "    dst = wbg+res\n",
    "#     cv2.imshow('Original',img)\n",
    "#     cv2.imshow(\"Mask\",mask)\n",
    "    cv2.imshow(\"Cropped\", cropped )\n",
    "#     cv2.imshow(\"Samed Size Black Image\", res)\n",
    "#     cv2.imshow(\"Samed Size White Image\", dst)\n",
    "    cv2.imwrite(\"cropped_cambodia.jpg\", cropped)\n",
    "    cv2.waitKey(0)\n",
    "    cv2.destroyAllWindows()"
   ]
  },
  {
   "cell_type": "code",
   "execution_count": null,
   "id": "cf075db2",
   "metadata": {},
   "outputs": [],
   "source": []
  }
 ],
 "metadata": {
  "kernelspec": {
   "display_name": "Python 3 (ipykernel)",
   "language": "python",
   "name": "python3"
  },
  "language_info": {
   "codemirror_mode": {
    "name": "ipython",
    "version": 3
   },
   "file_extension": ".py",
   "mimetype": "text/x-python",
   "name": "python",
   "nbconvert_exporter": "python",
   "pygments_lexer": "ipython3",
   "version": "3.10.6"
  }
 },
 "nbformat": 4,
 "nbformat_minor": 5
}

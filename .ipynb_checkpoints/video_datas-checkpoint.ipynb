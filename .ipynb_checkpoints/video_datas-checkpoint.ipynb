{
 "cells": [
  {
   "cell_type": "code",
   "execution_count": 1,
   "id": "9c8de19c",
   "metadata": {},
   "outputs": [],
   "source": [
    "import os\n",
    "import cv2\n",
    "import numpy as np\n",
    "import matplotlib.pyplot as plt"
   ]
  },
  {
   "cell_type": "code",
   "execution_count": 2,
   "id": "f17965bf",
   "metadata": {},
   "outputs": [],
   "source": [
    "frame = 15\n",
    "width = 256\n",
    "height = 256"
   ]
  },
  {
   "cell_type": "code",
   "execution_count": 3,
   "id": "637f03b1",
   "metadata": {},
   "outputs": [],
   "source": [
    "def load_video_names(path):\n",
    "    videos = []\n",
    "    labels = []\n",
    "    for category in os.listdir(path):\n",
    "        for video in os.listdir(path+\"/\"+category):\n",
    "            videos.append(path+\"/\"+category+\"/\"+video)\n",
    "            labels.append(category)\n",
    "    \n",
    "    return np.array(videos),np.array(labels)"
   ]
  },
  {
   "cell_type": "code",
   "execution_count": 5,
   "id": "a6de3fe6",
   "metadata": {},
   "outputs": [],
   "source": [
    "def preprocess(frame):\n",
    "    frame = cv2.resize(frame, (width, height))\n",
    "    frame = frame - 127.5\n",
    "    frame = frame + 127.5\n",
    "    return frame"
   ]
  },
  {
   "cell_type": "code",
   "execution_count": 6,
   "id": "c4005dd5",
   "metadata": {},
   "outputs": [],
   "source": [
    "def load_video(video_path):\n",
    "    video_frames = []\n",
    "    cap = cv2.VideoCapture(video_path)\n",
    "    while True:\n",
    "        ret, frame = cap.read()\n",
    "        if ret == True:\n",
    "            video_frames.append(preprocess(frame))\n",
    "        else:\n",
    "            break\n",
    "    caap.release()\n",
    "    video_frames = select_frames(video_frames)\n",
    "    if len(video_frames) != frames:\n",
    "        print(\"short_video\",video_path, len(video_frames))\n",
    "        \n",
    "    return np.array(video_frames)"
   ]
  },
  {
   "cell_type": "code",
   "execution_count": 7,
   "id": "38222771",
   "metadata": {},
   "outputs": [],
   "source": [
    "def select_frames(video_frames):\n",
    "    selected_frames = []\n",
    "    if len(video_frames) > frames:\n",
    "        fn = len(video_frames)//frames\n",
    "        f_num = 0\n",
    "        for f in video_frames:\n",
    "            if len(selected_frames) < frames:\n",
    "                if f_num % fn == 0:\n",
    "                    selected_frames.append(f)\n",
    "            f_num +=1\n",
    "            \n",
    "    else:\n",
    "        selected_frames = video_frames\n",
    "    \n",
    "    return selected_frames"
   ]
  },
  {
   "cell_type": "code",
   "execution_count": 8,
   "id": "ec958192",
   "metadata": {},
   "outputs": [],
   "source": [
    "#data = os.listdir(r\"D:\\Video_data\\train\")\n",
    "#label_types = os.listdir(r\"D:\\Video_data\\train\")"
   ]
  },
  {
   "cell_type": "code",
   "execution_count": 9,
   "id": "a8a03c9a",
   "metadata": {},
   "outputs": [],
   "source": [
    "def create_dataset(videos, labels, index):\n",
    "    x = []\n",
    "    y = []\n",
    "    for video, label in zip(videos[index], labels[index]):\n",
    "        x.append(load_video(video))\n",
    "        y.append(label)\n",
    "    \n",
    "    return np.array(x), np.array(y)\n",
    "    "
   ]
  },
  {
   "cell_type": "code",
   "execution_count": 11,
   "id": "b0f05cfc",
   "metadata": {},
   "outputs": [],
   "source": [
    "videos, labels = load_video_names(\"D:/Video_data/train\")\n",
    "samples = len(videos)"
   ]
  },
  {
   "cell_type": "code",
   "execution_count": 12,
   "id": "f91cc3ea",
   "metadata": {},
   "outputs": [
    {
     "data": {
      "text/plain": [
       "10"
      ]
     },
     "execution_count": 12,
     "metadata": {},
     "output_type": "execute_result"
    }
   ],
   "source": [
    "samples"
   ]
  },
  {
   "cell_type": "code",
   "execution_count": 13,
   "id": "625f5b68",
   "metadata": {},
   "outputs": [
    {
     "data": {
      "text/plain": [
       "3"
      ]
     },
     "execution_count": 13,
     "metadata": {},
     "output_type": "execute_result"
    }
   ],
   "source": [
    "classes = len(np.unique(labels))\n",
    "classes"
   ]
  },
  {
   "cell_type": "code",
   "execution_count": 14,
   "id": "68643e57",
   "metadata": {},
   "outputs": [
    {
     "name": "stdout",
     "output_type": "stream",
     "text": [
      "fire 5\n",
      "nofire 2\n",
      "smoke 3\n"
     ]
    }
   ],
   "source": [
    "label_counts = np.unique(labels, return_counts = True)\n",
    "for l, n in zip(label_counts[0], label_counts[1]):\n",
    "    print(l, n)"
   ]
  },
  {
   "cell_type": "code",
   "execution_count": 17,
   "id": "7aa6c529",
   "metadata": {},
   "outputs": [],
   "source": [
    "from sklearn.preprocessing import OneHotEncoder, LabelEncoder\n",
    "\n",
    "le = LabelEncoder()\n",
    "le.fit(np.unique(labels))\n",
    "encoded_labels = le.transform(labels)\n",
    "encoded_labels = np.reshape(encoded_labels, (-1,1))\n",
    "\n",
    "encoder = OneHotEncoder()\n",
    "encoder.fit(encoded_labels)\n",
    "encoded_labels = encoder.transform(encoded_labels)"
   ]
  },
  {
   "cell_type": "code",
   "execution_count": 18,
   "id": "d1d7be29",
   "metadata": {},
   "outputs": [],
   "source": [
    "encoded_labels = encoded_labels.toarray()"
   ]
  },
  {
   "cell_type": "code",
   "execution_count": 21,
   "id": "60afb82b",
   "metadata": {},
   "outputs": [],
   "source": [
    "import tensorflow as tf\n",
    "from tensorflow.keras import Input"
   ]
  },
  {
   "cell_type": "code",
   "execution_count": 24,
   "id": "60154a90",
   "metadata": {},
   "outputs": [],
   "source": [
    "from keras.models import Model\n",
    "from keras.layers import TimeDistributed, LSTM\n",
    "from keras.layers import ConvLSTM2D\n",
    "from keras.layers import Conv2D, MaxPooling2D\n",
    "from keras.layers import Activation, LeakyReLU, BatchNormalization\n",
    "from keras.layers import Dense, Flatten, GlobalMaxPooling2D\n",
    "from keras.layers import MaxPooling3D\n",
    "from keras.layers import concatenate\n",
    "from keras.optimizers import Adam"
   ]
  },
  {
   "cell_type": "code",
   "execution_count": 25,
   "id": "b50d40f0",
   "metadata": {},
   "outputs": [],
   "source": [
    "def res_block(model, filters):\n",
    "    start_block = model\n",
    "    model = Conv2D(filters = filters, kernel_size = 3, padding = \"same\")(model)\n",
    "    model = BatchNormalization(momentum = 0.9)(model)\n",
    "    model = LeakyReLU(0.2)(model)\n",
    "    return concatenate([start_block, model])"
   ]
  },
  {
   "cell_type": "code",
   "execution_count": 38,
   "id": "a9bbc902",
   "metadata": {},
   "outputs": [],
   "source": [
    "def create_model():\n",
    "    input_layer = Input(shape = (frame, width, height, 3))\n",
    "    \n",
    "    model = ConvLSTM2D(32, 3, padding = \"same\", return_sequences = False)(input_layer)\n",
    "    model = BatchNormalization(momentum = 0.9)(model)\n",
    "    model = LeakyReLU(0.2)(model)\n",
    "    \n",
    "    filters = 64\n",
    "    \n",
    "    for _ in range(6):\n",
    "        model = res_block(model, filters)\n",
    "        try:\n",
    "            model = MaxPooling3D((2,2,2))(model)\n",
    "        except:\n",
    "            model = MaxPooling2D((2,2))(model)\n",
    "            \n",
    "        if filters < 512:\n",
    "            filters*=2\n",
    "    \n",
    "    model = Flatten()(model)\n",
    "    model = Dense(classes, activation = \"softmax\")(model)\n",
    "    model = Model(input_layer, model)\n",
    "    \n",
    "   # leraning_rate = 0.0001\n",
    "    model.compile(optimizer = Adam(learning_rate = 0.0001),\n",
    "                 loss = \"categorical_crossentropy\",\n",
    "                 metrics = ['accuracy'])\n",
    "    \n",
    "    return model\n",
    "    "
   ]
  },
  {
   "cell_type": "code",
   "execution_count": 39,
   "id": "f7727b84",
   "metadata": {},
   "outputs": [],
   "source": [
    "classifier = create_model()"
   ]
  },
  {
   "cell_type": "code",
   "execution_count": 40,
   "id": "d7a28124",
   "metadata": {},
   "outputs": [
    {
     "name": "stdout",
     "output_type": "stream",
     "text": [
      "Model: \"model_4\"\n",
      "__________________________________________________________________________________________________\n",
      " Layer (type)                   Output Shape         Param #     Connected to                     \n",
      "==================================================================================================\n",
      " input_6 (InputLayer)           [(None, 15, 256, 25  0           []                               \n",
      "                                6, 3)]                                                            \n",
      "                                                                                                  \n",
      " conv_lstm2d_5 (ConvLSTM2D)     (None, 256, 256, 32  40448       ['input_6[0][0]']                \n",
      "                                )                                                                 \n",
      "                                                                                                  \n",
      " batch_normalization_30 (BatchN  (None, 256, 256, 32  128        ['conv_lstm2d_5[0][0]']          \n",
      " ormalization)                  )                                                                 \n",
      "                                                                                                  \n",
      " leaky_re_lu_30 (LeakyReLU)     (None, 256, 256, 32  0           ['batch_normalization_30[0][0]'] \n",
      "                                )                                                                 \n",
      "                                                                                                  \n",
      " conv2d_25 (Conv2D)             (None, 256, 256, 64  18496       ['leaky_re_lu_30[0][0]']         \n",
      "                                )                                                                 \n",
      "                                                                                                  \n",
      " batch_normalization_31 (BatchN  (None, 256, 256, 64  256        ['conv2d_25[0][0]']              \n",
      " ormalization)                  )                                                                 \n",
      "                                                                                                  \n",
      " leaky_re_lu_31 (LeakyReLU)     (None, 256, 256, 64  0           ['batch_normalization_31[0][0]'] \n",
      "                                )                                                                 \n",
      "                                                                                                  \n",
      " concatenate_25 (Concatenate)   (None, 256, 256, 96  0           ['leaky_re_lu_30[0][0]',         \n",
      "                                )                                 'leaky_re_lu_31[0][0]']         \n",
      "                                                                                                  \n",
      " max_pooling2d_24 (MaxPooling2D  (None, 128, 128, 96  0          ['concatenate_25[0][0]']         \n",
      " )                              )                                                                 \n",
      "                                                                                                  \n",
      " conv2d_26 (Conv2D)             (None, 128, 128, 12  110720      ['max_pooling2d_24[0][0]']       \n",
      "                                8)                                                                \n",
      "                                                                                                  \n",
      " batch_normalization_32 (BatchN  (None, 128, 128, 12  512        ['conv2d_26[0][0]']              \n",
      " ormalization)                  8)                                                                \n",
      "                                                                                                  \n",
      " leaky_re_lu_32 (LeakyReLU)     (None, 128, 128, 12  0           ['batch_normalization_32[0][0]'] \n",
      "                                8)                                                                \n",
      "                                                                                                  \n",
      " concatenate_26 (Concatenate)   (None, 128, 128, 22  0           ['max_pooling2d_24[0][0]',       \n",
      "                                4)                                'leaky_re_lu_32[0][0]']         \n",
      "                                                                                                  \n",
      " max_pooling2d_25 (MaxPooling2D  (None, 64, 64, 224)  0          ['concatenate_26[0][0]']         \n",
      " )                                                                                                \n",
      "                                                                                                  \n",
      " conv2d_27 (Conv2D)             (None, 64, 64, 256)  516352      ['max_pooling2d_25[0][0]']       \n",
      "                                                                                                  \n",
      " batch_normalization_33 (BatchN  (None, 64, 64, 256)  1024       ['conv2d_27[0][0]']              \n",
      " ormalization)                                                                                    \n",
      "                                                                                                  \n",
      " leaky_re_lu_33 (LeakyReLU)     (None, 64, 64, 256)  0           ['batch_normalization_33[0][0]'] \n",
      "                                                                                                  \n",
      " concatenate_27 (Concatenate)   (None, 64, 64, 480)  0           ['max_pooling2d_25[0][0]',       \n",
      "                                                                  'leaky_re_lu_33[0][0]']         \n",
      "                                                                                                  \n",
      " max_pooling2d_26 (MaxPooling2D  (None, 32, 32, 480)  0          ['concatenate_27[0][0]']         \n",
      " )                                                                                                \n",
      "                                                                                                  \n",
      " conv2d_28 (Conv2D)             (None, 32, 32, 512)  2212352     ['max_pooling2d_26[0][0]']       \n",
      "                                                                                                  \n",
      " batch_normalization_34 (BatchN  (None, 32, 32, 512)  2048       ['conv2d_28[0][0]']              \n",
      " ormalization)                                                                                    \n",
      "                                                                                                  \n",
      " leaky_re_lu_34 (LeakyReLU)     (None, 32, 32, 512)  0           ['batch_normalization_34[0][0]'] \n",
      "                                                                                                  \n",
      " concatenate_28 (Concatenate)   (None, 32, 32, 992)  0           ['max_pooling2d_26[0][0]',       \n",
      "                                                                  'leaky_re_lu_34[0][0]']         \n",
      "                                                                                                  \n",
      " max_pooling2d_27 (MaxPooling2D  (None, 16, 16, 992)  0          ['concatenate_28[0][0]']         \n",
      " )                                                                                                \n",
      "                                                                                                  \n",
      " conv2d_29 (Conv2D)             (None, 16, 16, 512)  4571648     ['max_pooling2d_27[0][0]']       \n",
      "                                                                                                  \n",
      " batch_normalization_35 (BatchN  (None, 16, 16, 512)  2048       ['conv2d_29[0][0]']              \n",
      " ormalization)                                                                                    \n",
      "                                                                                                  \n",
      " leaky_re_lu_35 (LeakyReLU)     (None, 16, 16, 512)  0           ['batch_normalization_35[0][0]'] \n",
      "                                                                                                  \n",
      " concatenate_29 (Concatenate)   (None, 16, 16, 1504  0           ['max_pooling2d_27[0][0]',       \n",
      "                                )                                 'leaky_re_lu_35[0][0]']         \n",
      "                                                                                                  \n",
      " max_pooling2d_28 (MaxPooling2D  (None, 8, 8, 1504)  0           ['concatenate_29[0][0]']         \n",
      " )                                                                                                \n"
     ]
    },
    {
     "name": "stdout",
     "output_type": "stream",
     "text": [
      "                                                                                                  \n",
      " conv2d_30 (Conv2D)             (None, 8, 8, 512)    6930944     ['max_pooling2d_28[0][0]']       \n",
      "                                                                                                  \n",
      " batch_normalization_36 (BatchN  (None, 8, 8, 512)   2048        ['conv2d_30[0][0]']              \n",
      " ormalization)                                                                                    \n",
      "                                                                                                  \n",
      " leaky_re_lu_36 (LeakyReLU)     (None, 8, 8, 512)    0           ['batch_normalization_36[0][0]'] \n",
      "                                                                                                  \n",
      " concatenate_30 (Concatenate)   (None, 8, 8, 2016)   0           ['max_pooling2d_28[0][0]',       \n",
      "                                                                  'leaky_re_lu_36[0][0]']         \n",
      "                                                                                                  \n",
      " max_pooling2d_29 (MaxPooling2D  (None, 4, 4, 2016)  0           ['concatenate_30[0][0]']         \n",
      " )                                                                                                \n",
      "                                                                                                  \n",
      " flatten_4 (Flatten)            (None, 32256)        0           ['max_pooling2d_29[0][0]']       \n",
      "                                                                                                  \n",
      " dense_4 (Dense)                (None, 3)            96771       ['flatten_4[0][0]']              \n",
      "                                                                                                  \n",
      "==================================================================================================\n",
      "Total params: 14,505,795\n",
      "Trainable params: 14,501,763\n",
      "Non-trainable params: 4,032\n",
      "__________________________________________________________________________________________________\n"
     ]
    }
   ],
   "source": [
    "classifier.summary()"
   ]
  },
  {
   "cell_type": "code",
   "execution_count": 45,
   "id": "a4e33c0c",
   "metadata": {},
   "outputs": [
    {
     "name": "stdout",
     "output_type": "stream",
     "text": [
      "You must install pydot (`pip install pydot`) and install graphviz (see instructions at https://graphviz.gitlab.io/download/) for plot_model to work.\n"
     ]
    }
   ],
   "source": [
    "#from keras.utils import plot_model\n",
    "from keras.utils.vis_utils import plot_model\n",
    "plot_model(classifier)"
   ]
  },
  {
   "cell_type": "code",
   "execution_count": 46,
   "id": "bcc0365a",
   "metadata": {},
   "outputs": [],
   "source": [
    "model_name = \"D:/Video_data_model/conv_lstm_2d.h5\""
   ]
  },
  {
   "cell_type": "code",
   "execution_count": 48,
   "id": "da6e368a",
   "metadata": {},
   "outputs": [],
   "source": [
    "try:\n",
    "    classifier.load_weights(model_name)\n",
    "except:\n",
    "    pass"
   ]
  },
  {
   "cell_type": "code",
   "execution_count": 53,
   "id": "edc55a57",
   "metadata": {},
   "outputs": [],
   "source": [
    "batch_size = 4\n",
    "if samples//batch_size < samples/batch_size:\n",
    "    batches = (samples//batch_size)+1\n",
    "else:\n",
    "    batches = samples//batch_size\n",
    "\n",
    "    for e in range(100):\n",
    "        indexi = list(raange(samples))\n",
    "        np.random.shuffle(indexi)\n",
    "        accuracy = 0\n",
    "        for batch in raange(batches):\n",
    "            bs = batch*baatch_size\n",
    "            be = bs + batch_size\n",
    "            seelected_indexes = indexi[bs:be]\n",
    "            \n",
    "            x,y = create_dataset(videos, encoded_labels, selected_indexes)\n",
    "            results = classifier.train_on_batch(x,y)\n",
    "            print(\"\\r\",batch,\"/\",batches,\":\",results[0],results[1],end = \" \")\n",
    "            accuracy += results[1]\n",
    "            if batch%100 == 0:\n",
    "                classifier.save_weights(model_name)\n",
    "        \n",
    "        print(\"\\r\",e,\",Accuracy=\", accuracy/batches)\n",
    "        classifier.save_weights(model_name)\n",
    "    "
   ]
  },
  {
   "cell_type": "code",
   "execution_count": null,
   "id": "cd641d5e",
   "metadata": {},
   "outputs": [],
   "source": []
  },
  {
   "cell_type": "code",
   "execution_count": null,
   "id": "b1ef6ab6",
   "metadata": {},
   "outputs": [],
   "source": []
  }
 ],
 "metadata": {
  "kernelspec": {
   "display_name": "Python 3 (ipykernel)",
   "language": "python",
   "name": "python3"
  },
  "language_info": {
   "codemirror_mode": {
    "name": "ipython",
    "version": 3
   },
   "file_extension": ".py",
   "mimetype": "text/x-python",
   "name": "python",
   "nbconvert_exporter": "python",
   "pygments_lexer": "ipython3",
   "version": "3.10.6"
  }
 },
 "nbformat": 4,
 "nbformat_minor": 5
}
